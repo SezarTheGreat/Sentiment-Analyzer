{
 "cells": [
  {
   "cell_type": "code",
   "execution_count": 1,
   "id": "a180c0f5-3ea7-4f9a-8399-a4fa21eddc4e",
   "metadata": {},
   "outputs": [],
   "source": [
    "#Importing the libraries...\n",
    "import string\n",
    "from nltk.corpus import stopwords\n",
    "from nltk.tokenize import word_tokenize\n",
    "from nltk.sentiment.vader import SentimentIntensityAnalyzer\n",
    "from collections import Counter\n",
    "import matplotlib.pyplot as plt"
   ]
  },
  {
   "cell_type": "code",
   "execution_count": 2,
   "id": "20792b1b-9b3a-4e9d-8a8c-0992495e534c",
   "metadata": {},
   "outputs": [
    {
     "name": "stdout",
     "output_type": "stream",
     "text": [
      "['long', 'years', 'ago', 'made', 'tryst', 'destiny', 'time', 'comes', 'shall', 'redeem', 'pledge', 'wholly', 'full', 'measure', 'substantially', 'stroke', 'midnight', 'hour', 'world', 'sleeps', 'india', 'awake', 'life', 'freedom', 'moment', 'comes', 'comes', 'rarely', 'history', 'step', 'old', 'new', 'age', 'ends', 'soul', 'nation', 'long', 'suppressed', 'finds', 'utterance', 'ambition', 'greatest', 'man', 'generation', 'wipe', 'every', 'tear', 'every', 'eye', 'may', 'beyond', 'us', 'long', 'tears', 'suffering', 'long', 'work', 'labour', 'work', 'work', 'hard', 'give', 'reality', 'dreams', 'dreams', 'india', 'also', 'worldon', 'august', '15', '1947', 'stroke', 'midnight', 'india', 'pakistan', 'achieved', 'independence', 'british', 'rule', '–', 'signalling', 'beginning', 'end', 'largest', 'empire', 'history', 'freedom', 'hard', 'fought', 'came', 'huge', 'cost', 'contrary', 'legend', 'british', 'keen', 'devolve', 'power', 'gradually', 'struggle', 'sovereignty', 'took', 'many', 'forms', 'violent', 'nonviolent', 'elite', 'popular', 'religious', 'secular', 'plural', 'separatist', 'celebrate', '70th', 'anniversary', 'independence', 'cambridge', '’', 'centre', 'south', 'asian', 'studies', 'staging', 'unique', 'exhibition', 'four', 'floors', 'alison', 'richard', 'building', '–', 'drawing', 'centre', '’', 'unparalleled', 'collection', '100000', 'photographs', '600', 'written', 'collections', '900', 'maps', 'thousands', 'hours', 'film', 'footage', 'exhibition', '’', 'primary', 'focus', 'partition', 'independence', 'collection', 'covers', '200', 'years', 'life', 'raj', 'early', 'decades', 'postcolonial', 'india', 'featuring', 'firsthand', 'photographs', 'gandhi', 'nehru', 'jinnah', '–', 'highlighting', 'female', 'assassins', 'refugees', 'personal', 'stories', 'affected', 'british', 'withdrawal', 'freedom', 'fragmentation', 'images', 'independence', 'decolonisation', 'partition', 'runs', 'october', '27', '2017', '“', 'saying', 'definitive', 'story', 'partition', 'independence', '–', '’', 'one', 'drawn', 'collections', 'want', 'people', 'learn', 'way', 'india', 'pakistan', 'gained', 'freedom', '–', 'colonial', 'state', 'achieved', '“', 'everyone', 'knows', 'gandhi', 'lots', 'violence', 'revolutionary', 'movements', 'competing', 'images', 'independent', 'india', 'like', 'floor', 'exhibition', 'explores', 'one', 'four', 'themes', 'repression', 'resistance', 'ideas', 'independence', 'partition', 'raj', '”', 'director', 'centre', 'south', 'asian', 'studies', 'professor', 'joya', 'chaterji', 'said', '“', 'exhibition', 'explores', 'freedom', 'meant', 'people', 'ground', 'power', 'transferred', 'one', 'two', 'nations', '–', 'india', 'pakistan', '–', 'euphoria', 'mingled', 'agony', 'refugees', 'relief', 'horror', 'brutality', 'partition', '“', 'need', 'conscious', 'archive', 'elite', 'archive', 'primarily', 'seen', 'eyes', 'elite', 'white', 'men', 'obscure', 'silence', 'many', 'versions', 'happening', 'point', '’', 'archives', 'one', 'despite', 'caveat', 'believe', 'images', 'texts', 'display', 'provide', 'rare', 'insight', 'pivotal', 'moment', 'history', '”']\n"
     ]
    }
   ],
   "source": [
    "# Open the file in read mode with UTF-8 encoding\n",
    "with open('read.txt', 'r', encoding='utf-8') as file:\n",
    "    # Read the contents of the file\n",
    "    text = file.read()\n",
    "# Cleaning the text to all lower and without any punctuation marks.\n",
    "lower_case = text.lower()\n",
    "cleaned_text = lower_case.translate(str.maketrans('', '', string.punctuation))\n",
    "\n",
    "# Tokenization and Stopwords\n",
    "tokenize_words = word_tokenize(cleaned_text, \"english\")\n",
    "# nltk.download('stopwords')\n",
    "stop_words = set(stopwords.words('english'))\n",
    "final_words = []\n",
    "for word in tokenize_words:\n",
    "    if word not in stop_words:\n",
    "        final_words.append(word)\n",
    "print(final_words)"
   ]
  },
  {
   "cell_type": "code",
   "execution_count": 3,
   "id": "8ccb5965-9090-4c28-b627-548bd5c22758",
   "metadata": {},
   "outputs": [
    {
     "name": "stdout",
     "output_type": "stream",
     "text": [
      "long years ago we made a tryst with destiny and now the time comes when we shall redeem our pledge not wholly or in full measure but very substantially at the stroke of the midnight hour when the world sleeps india will awake to life and freedom a moment comes which comes but rarely in history when we step out from the old to new when an age ends and when the soul of a nation long suppressed finds utterance\n",
      "\n",
      "the ambition of the greatest man of our generation has been to wipe every tear from every eye that may be beyond us but so long as there are tears and suffering so long our work will not be over and so we have to labour and to work and work hard to give reality to our dreams those dreams are for india but they are also for the worldon august 15 1947 at the stroke of midnight india and pakistan achieved independence from british rule – signalling the beginning of the end of the largest empire in history\n",
      "their freedom had been hard fought and came at a huge cost contrary to legend the british had not been keen to devolve power gradually this struggle for sovereignty took many forms violent and nonviolent elite and popular religious and secular plural and separatist\n",
      "\n",
      "to celebrate the 70th anniversary of independence cambridge’s centre of south asian studies is staging a unique exhibition over four floors of the alison richard building – drawing on the centre’s unparalleled collection of more than 100000 photographs 600 written collections 900 maps and thousands of hours of film footage\n",
      "\n",
      "while the exhibition’s primary focus is on partition and independence the collection covers more than 200 years of life under the raj and the early decades of postcolonial india\n",
      "\n",
      "featuring firsthand photographs of gandhi nehru and jinnah – and highlighting female assassins refugees and the personal stories of those affected by the british withdrawal freedom and fragmentation images of independence decolonisation and partition runs until october 27 2017“we are not saying this is the definitive story of partition and independence – it’s the one drawn from our collections we want people to learn more about the way in which india and pakistan gained their freedom – and the colonial state from which they achieved it\n",
      "\n",
      "“everyone knows about gandhi but there was lots of violence and revolutionary movements with competing images of what an independent india should be like each floor of the exhibition explores one of four themes repression and resistance ideas of independence partition and the raj”\n",
      "\n",
      "director of the centre of south asian studies professor joya chaterji said “this exhibition explores what freedom meant to people on the ground as power was transferred not to one but to two nations – india and pakistan – and euphoria mingled with the agony of refugees and relief with horror at the brutality of partition\n",
      "\n",
      "“we need to be conscious that our archive is an elite archive primarily seen through the eyes of elite white men which can obscure and silence many other versions of what was happening at that point that’s what archives do not just this one despite this caveat we believe that the images and texts on display provide a rare insight into a pivotal moment in history”\n"
     ]
    }
   ],
   "source": [
    "import string\n",
    "from nltk.tokenize import word_tokenize\n",
    "from nltk.corpus import stopwords\n",
    "\n",
    "# Open the file in read mode with specified encoding\n",
    "with open('read.txt', 'r', encoding='utf-8') as file:  # Added encoding='utf-8'\n",
    "    # Read the contents of the file\n",
    "    text = file.read()\n",
    "    \n",
    "# Cleaning the text to all lower and without any punctuation marks.\n",
    "lower_case = text.lower()\n",
    "cleaned_text = lower_case.translate(str.maketrans('', '', string.punctuation))\n",
    "\n",
    "# Tokenization and Stopwords using nltk\n",
    "\n",
    "tokenize_words = word_tokenize(cleaned_text)\n",
    "stop_words = set(stopwords.words('english'))\n",
    "final_words = []\n",
    "for word in tokenize_words:\n",
    "    if word not in stop_words:\n",
    "        final_words.append(word)\n",
    "\n",
    "print(final_words)"
   ]
  },
  {
   "cell_type": "code",
   "execution_count": 7,
   "id": "6ea71181-e9ea-4a2b-b7a4-28eca1d15a33",
   "metadata": {
    "scrolled": true
   },
   "outputs": [
    {
     "name": "stdout",
     "output_type": "stream",
     "text": [
      "[' attracted', ' free', ' attracted', ' sad']\n",
      "Counter({' attracted': 2, ' free': 1, ' sad': 1})\n"
     ]
    }
   ],
   "source": [
    "#nlp emotions processing without using nlp\n",
    "emotion_list = []\n",
    "\n",
    "with open('emotions.txt', 'r') as file:\n",
    "    for line in file:\n",
    "        clear_line = line.replace('\\n','').replace(',','').replace(\"'\",'').strip()\n",
    "        word, emotion = clear_line.split(':')\n",
    "\n",
    "        if word in final_words:\n",
    "            emotion_list.append(emotion)\n",
    "print(emotion_list)\n",
    "w = Counter(emotion_list)\n",
    "print(w)"
   ]
  },
  {
   "cell_type": "code",
   "execution_count": 9,
   "id": "f53f9332-7b74-4d9c-9073-e004bc7f9831",
   "metadata": {},
   "outputs": [
    {
     "name": "stdout",
     "output_type": "stream",
     "text": [
      "Positive sentiment!\n"
     ]
    }
   ],
   "source": [
    "#NLTK natural language processing setiment analysis (also download vader_levicon)\n",
    "# import nltk\n",
    "# nltk.download('vader_lexicon')\n",
    "def sentiment_analyze(sentiment_text):\n",
    "    score = SentimentIntensityAnalyzer().polarity_scores(sentiment_text)\n",
    "    neg = score['neg']\n",
    "    pos = score['pos']\n",
    "    if neg > pos:\n",
    "        print(\"Negative Sentiment!\")\n",
    "    elif pos > neg:\n",
    "        print(\"Positive sentiment!\")\n",
    "    else:\n",
    "        print(\"Neutral Sentiment!\")\n",
    "sentiment_analyze(cleaned_text)\n",
    "\n",
    "#This will be overall sentiment expressed in the text that is being provided "
   ]
  },
  {
   "cell_type": "code",
   "execution_count": 11,
   "id": "b51ac7b3-f448-4fa3-89ac-ca39a2f227d2",
   "metadata": {},
   "outputs": [
    {
     "data": {
      "image/png": "[encoded data removed]",
      "text/plain": [
       "<Figure size 640x480 with 1 Axes>"
      ]
     },
     "metadata": {},
     "output_type": "display_data"
    }
   ],
   "source": [
    "# Plotting the emotions on a graph\n",
    "fig, axl = plt.subplots() \n",
    "axl.bar(w.keys(), w.values())\n",
    "fig.autofmt_xdate()  \n",
    "plt.show()\n",
    "\n",
    "#This will plot out the graph of the different kind of feelings that the text is expressing."
   ]
  },
  {
   "cell_type": "code",
   "execution_count": null,
   "id": "adcb45c2-d03b-495f-aef9-0ed7b9def373",
   "metadata": {},
   "outputs": [],
   "source": []
  }
 ],
 "metadata": {
  "kernelspec": {
   "display_name": "Python [conda env:base] *",
   "language": "python",
   "name": "conda-base-py"
  },
  "language_info": {
   "codemirror_mode": {
    "name": "ipython",
    "version": 3
   },
   "file_extension": ".py",
   "mimetype": "text/x-python",
   "name": "python",
   "nbconvert_exporter": "python",
   "pygments_lexer": "ipython3",
   "version": "3.12.7"
  }
 },
 "nbformat": 4,
 "nbformat_minor": 5
}
